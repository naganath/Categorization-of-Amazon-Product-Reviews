{
 "cells": [
  {
   "cell_type": "code",
   "execution_count": 2,
   "metadata": {},
   "outputs": [
    {
     "name": "stderr",
     "output_type": "stream",
     "text": [
      "Using TensorFlow backend.\n"
     ]
    }
   ],
   "source": [
    "import pandas as pd\n",
    "import re\n",
    "from nltk import word_tokenize\n",
    "import nltk.tokenize.punkt\n",
    "import numpy as np\n",
    "from nltk import sent_tokenize\n",
    "import codecs\n",
    "import nltk.corpus\n",
    "import nltk.tokenize.punkt\n",
    "import nltk.stem.snowball\n",
    "import string\n",
    "from nltk import word_tokenize\n",
    "import re\n",
    "import numpy as np\n",
    "from tensorflow.keras.preprocessing.text import Tokenizer\n",
    "from tensorflow.keras.preprocessing.sequence import pad_sequences\n",
    "from tensorflow.keras.models import Sequential\n",
    "from tensorflow.keras.layers import Embedding\n",
    "from tensorflow.keras.layers import SimpleRNN\n",
    "from tensorflow.keras.regularizers import l1, l2\n",
    "from tensorflow.keras.layers import Dense, Dropout, LSTM, Masking, Bidirectional, GRU, SimpleRNN\n",
    "from tensorflow.keras import optimizers\n",
    "from nltk.stem import WordNetLemmatizer\n",
    "from nltk import word_tokenize, sent_tokenize\n",
    "from nltk.corpus import stopwords\n",
    "import matplotlib.pyplot as plt\n",
    "from tensorflow.keras import backend as K\n",
    "from sklearn.preprocessing import LabelEncoder\n",
    "from keras.utils import np_utils\n",
    "from tensorflow.keras.callbacks import ModelCheckpoint\n",
    "from sklearn import model_selection, naive_bayes, svm\n",
    "from sklearn.model_selection import train_test_split\n",
    "from sklearn.metrics import accuracy_score\n",
    "from sklearn.metrics import confusion_matrix\n",
    "from tensorflow.keras.metrics import Recall, Precision\n"
   ]
  },
  {
   "cell_type": "markdown",
   "metadata": {},
   "source": [
    "### Reading from file and setting column headers"
   ]
  },
  {
   "cell_type": "code",
   "execution_count": 3,
   "metadata": {},
   "outputs": [],
   "source": [
    "df = pd.read_csv(\"amazon_dataset_3.csv\")\n",
    "df_Test = pd.read_csv(\"amazon_dataset_test_3.csv\")"
   ]
  },
  {
   "cell_type": "code",
   "execution_count": 4,
   "metadata": {},
   "outputs": [
    {
     "name": "stdout",
     "output_type": "stream",
     "text": [
      "                 reviewText   summary       Class\n",
      "count                 15853     15853       15853\n",
      "unique                15845     12857           5\n",
      "top     It arrived damaged!  One Star  Operations\n",
      "freq                      2      1091        4968\n"
     ]
    },
    {
     "data": {
      "text/html": [
       "<div>\n",
       "<style scoped>\n",
       "    .dataframe tbody tr th:only-of-type {\n",
       "        vertical-align: middle;\n",
       "    }\n",
       "\n",
       "    .dataframe tbody tr th {\n",
       "        vertical-align: top;\n",
       "    }\n",
       "\n",
       "    .dataframe thead th {\n",
       "        text-align: right;\n",
       "    }\n",
       "</style>\n",
       "<table border=\"1\" class=\"dataframe\">\n",
       "  <thead>\n",
       "    <tr style=\"text-align: right;\">\n",
       "      <th></th>\n",
       "      <th>Review</th>\n",
       "      <th>Summary</th>\n",
       "      <th>Class</th>\n",
       "    </tr>\n",
       "  </thead>\n",
       "  <tbody>\n",
       "    <tr>\n",
       "      <td>count</td>\n",
       "      <td>1603</td>\n",
       "      <td>1603</td>\n",
       "      <td>1603</td>\n",
       "    </tr>\n",
       "    <tr>\n",
       "      <td>unique</td>\n",
       "      <td>1602</td>\n",
       "      <td>1413</td>\n",
       "      <td>5</td>\n",
       "    </tr>\n",
       "    <tr>\n",
       "      <td>top</td>\n",
       "      <td>Item arrived damaged.</td>\n",
       "      <td>One Star</td>\n",
       "      <td>Operations</td>\n",
       "    </tr>\n",
       "    <tr>\n",
       "      <td>freq</td>\n",
       "      <td>2</td>\n",
       "      <td>118</td>\n",
       "      <td>502</td>\n",
       "    </tr>\n",
       "  </tbody>\n",
       "</table>\n",
       "</div>"
      ],
      "text/plain": [
       "                       Review   Summary       Class\n",
       "count                    1603      1603        1603\n",
       "unique                   1602      1413           5\n",
       "top     Item arrived damaged.  One Star  Operations\n",
       "freq                        2       118         502"
      ]
     },
     "execution_count": 4,
     "metadata": {},
     "output_type": "execute_result"
    }
   ],
   "source": [
    "print(df.describe())\n",
    "df_Test.rename(columns={'reviewText':'Review', 'summary': 'Summary'}, inplace=True)\n",
    "df_Test.describe()"
   ]
  },
  {
   "cell_type": "markdown",
   "metadata": {},
   "source": [
    "### Preprocessing reviews"
   ]
  },
  {
   "cell_type": "code",
   "execution_count": null,
   "metadata": {},
   "outputs": [],
   "source": [
    "def create_tokens(sentence):\n",
    "    sentence = sentence.lower()\n",
    "    sentence = re.sub(r\"[^A-Za-z0-9\\s]+\", '', sentence)        \n",
    "    sentence_tokens = nltk.word_tokenize(sentence)\n",
    "    sentence_tokens = ' '.join(sentence_tokens)\n",
    "    return sentence_tokens"
   ]
  },
  {
   "cell_type": "code",
   "execution_count": 6,
   "metadata": {},
   "outputs": [],
   "source": [
    "df['reviewText'] = df['reviewText'].apply(create_tokens)\n",
    "df['summary'] = df['summary'].apply(create_tokens)\n",
    "df['Review_withSummary'] = df['summary'] + \" \" + df['reviewText']\n",
    "\n",
    "df_Test['Review'] = df_Test['Review'].apply(create_tokens)\n",
    "df_Test['Summary'] = df_Test['Summary'].apply(create_tokens)\n",
    "df_Test['Review_withSummary'] = df_Test['Summary'] + \" \" + df_Test['Review']"
   ]
  },
  {
   "cell_type": "code",
   "execution_count": null,
   "metadata": {},
   "outputs": [],
   "source": [
    "df = df.sample(frac=1).reset_index(drop=True)\n",
    "# df_Test = df_Test.sample(frac=1).reset_index(drop=True)"
   ]
  },
  {
   "cell_type": "markdown",
   "metadata": {},
   "source": [
    "### Encoding and Tokenising "
   ]
  },
  {
   "cell_type": "code",
   "execution_count": 8,
   "metadata": {},
   "outputs": [],
   "source": [
    "label_encoder = LabelEncoder()\n",
    "label_encoder.fit(df['Class'])\n",
    "\n",
    "df['class_encoded']= label_encoder.transform(df['Class'])\n",
    "df_Test['class_encoded']= label_encoder.transform(df_Test['Class'])\n"
   ]
  },
  {
   "cell_type": "code",
   "execution_count": 9,
   "metadata": {},
   "outputs": [],
   "source": [
    "tokenizer = Tokenizer()\n",
    "sentence_sequence_train = tokenizer.fit_on_texts(df['Review_withSummary'])\n",
    "\n",
    "sentence_sequence_test = tokenizer.fit_on_texts(df_Test['Review_withSummary'])\n",
    "sentence_sequence_test = tokenizer.texts_to_sequences(df_Test['Review_withSummary'])\n",
    "\n",
    "pad_sequence_test = pad_sequences(sentence_sequence_test, maxlen = 100)\n",
    "\n",
    "sentence_sequence_train = tokenizer.texts_to_sequences(df['Review_withSummary'])\n",
    "pad_sequence_train = pad_sequences(sentence_sequence_train, maxlen = 100)\n",
    "\n",
    "# pad_sequence_Summary = pad_sequences(sentence_sequence_summary, maxlen=Seq_len)"
   ]
  },
  {
   "cell_type": "code",
   "execution_count": 10,
   "metadata": {},
   "outputs": [],
   "source": [
    "Max_Words = len(tokenizer.word_index) + 1"
   ]
  },
  {
   "cell_type": "markdown",
   "metadata": {},
   "source": [
    "### Loading GloVe matrix"
   ]
  },
  {
   "cell_type": "code",
   "execution_count": 11,
   "metadata": {},
   "outputs": [],
   "source": [
    "embedding_matrix = np.zeros((Max_Words, 300))"
   ]
  },
  {
   "cell_type": "code",
   "execution_count": 12,
   "metadata": {},
   "outputs": [
    {
     "name": "stdout",
     "output_type": "stream",
     "text": [
      "Found 400000 word vectors.\n"
     ]
    }
   ],
   "source": [
    "embeddings_index = {}\n",
    "\n",
    "f = open(\"glove.6B.300d.txt\", encoding=\"utf8\")\n",
    "for line in f:\n",
    "    values = line.split()\n",
    "    word = values[0]\n",
    "    coefs = np.asarray(values[1:], dtype='float32')\n",
    "    embeddings_index[word] = coefs\n",
    "f.close()\n",
    "        \n",
    "print('Found %s word vectors.' % len(embeddings_index))\n",
    "\n",
    "for word, i in tokenizer.word_index.items():\n",
    "    if i >= Max_Words:\n",
    "        continue\n",
    "    embedding_vector = embeddings_index.get(word)\n",
    "    if embedding_vector is not None:\n",
    "        embedding_matrix[i] = embedding_vector"
   ]
  },
  {
   "cell_type": "markdown",
   "metadata": {},
   "source": [
    "### computing class weights to handle skewed dataset"
   ]
  },
  {
   "cell_type": "code",
   "execution_count": 13,
   "metadata": {},
   "outputs": [
    {
     "name": "stdout",
     "output_type": "stream",
     "text": [
      "{1: 1.0, 2: 1.7238029146426093, 4: 2.03690036900369, 3: 1.0935505172793307, 0: 4.865817825661116}\n"
     ]
    }
   ],
   "source": [
    "class_ratio = df['class_encoded'].value_counts(normalize=True)\n",
    "max_value = class_ratio.max()\n",
    "class_weights = {}\n",
    "for label in df.class_encoded.unique():\n",
    "    class_weights[label] = max_value / class_ratio[label]\n",
    "print(class_weights)"
   ]
  },
  {
   "cell_type": "markdown",
   "metadata": {},
   "source": [
    "### LSTM model"
   ]
  },
  {
   "cell_type": "code",
   "execution_count": 14,
   "metadata": {},
   "outputs": [
    {
     "name": "stdout",
     "output_type": "stream",
     "text": [
      "WARNING:tensorflow:From C:\\Users\\Ramanathan\\Anaconda3\\lib\\site-packages\\tensorflow\\python\\keras\\initializers.py:119: calling RandomUniform.__init__ (from tensorflow.python.ops.init_ops) with dtype is deprecated and will be removed in a future version.\n",
      "Instructions for updating:\n",
      "Call initializer instance with the dtype argument instead of passing it to the constructor\n",
      "WARNING:tensorflow:From C:\\Users\\Ramanathan\\Anaconda3\\lib\\site-packages\\tensorflow\\python\\ops\\init_ops.py:1251: calling VarianceScaling.__init__ (from tensorflow.python.ops.init_ops) with dtype is deprecated and will be removed in a future version.\n",
      "Instructions for updating:\n",
      "Call initializer instance with the dtype argument instead of passing it to the constructor\n",
      "WARNING:tensorflow:From C:\\Users\\Ramanathan\\Anaconda3\\lib\\site-packages\\tensorflow\\python\\keras\\backend.py:3794: add_dispatch_support.<locals>.wrapper (from tensorflow.python.ops.array_ops) is deprecated and will be removed in a future version.\n",
      "Instructions for updating:\n",
      "Use tf.where in 2.0, which has the same broadcast rule as np.where\n",
      "Model: \"sequential\"\n",
      "_________________________________________________________________\n",
      "Layer (type)                 Output Shape              Param #   \n",
      "=================================================================\n",
      "embedding (Embedding)        (None, 100, 300)          12661200  \n",
      "_________________________________________________________________\n",
      "lstm (LSTM)                  (None, 100, 100)          160400    \n",
      "_________________________________________________________________\n",
      "dropout (Dropout)            (None, 100, 100)          0         \n",
      "_________________________________________________________________\n",
      "lstm_1 (LSTM)                (None, 100)               80400     \n",
      "_________________________________________________________________\n",
      "dropout_1 (Dropout)          (None, 100)               0         \n",
      "_________________________________________________________________\n",
      "dense (Dense)                (None, 16)                1616      \n",
      "_________________________________________________________________\n",
      "dense_1 (Dense)              (None, 5)                 85        \n",
      "=================================================================\n",
      "Total params: 12,903,701\n",
      "Trainable params: 12,903,701\n",
      "Non-trainable params: 0\n",
      "_________________________________________________________________\n"
     ]
    }
   ],
   "source": [
    "model_LSTM = Sequential()\n",
    "model_LSTM.add(Embedding(Max_Words, 300, weights=[embedding_matrix], input_length=100, trainable=True, mask_zero= True))\n",
    "model_LSTM.add(LSTM(100, return_sequences = True, dropout=0.1, recurrent_dropout=0.1))\n",
    "model_LSTM.add(Dropout(0.1))\n",
    "model_LSTM.add(LSTM(100, return_sequences = False, dropout=0.1, recurrent_dropout=0.1))\n",
    "model_LSTM.add(Dropout(0.1))\n",
    "model_LSTM.add(Dense(16, activation='relu'))\n",
    "model_LSTM.add(Dense(5, activation='softmax'))\n",
    "model_LSTM.compile(loss='sparse_categorical_crossentropy', optimizer= optimizers.Adam(1e-4), metrics=['accuracy'])\n",
    "model_LSTM.summary()"
   ]
  },
  {
   "cell_type": "code",
   "execution_count": 15,
   "metadata": {},
   "outputs": [
    {
     "name": "stdout",
     "output_type": "stream",
     "text": [
      "Train on 12682 samples, validate on 3171 samples\n",
      "Epoch 1/20\n",
      "12672/12682 [============================>.] - ETA: 0s - loss: 1.3881 - acc: 0.4422\n",
      "Epoch 00001: val_loss improved from inf to 1.11266, saving model to lstm.hdf5\n",
      "12682/12682 [==============================] - 160s 13ms/sample - loss: 1.3879 - acc: 0.4422 - val_loss: 1.1127 - val_acc: 0.5629\n",
      "Epoch 2/20\n",
      "12672/12682 [============================>.] - ETA: 0s - loss: 1.0901 - acc: 0.5895\n",
      "Epoch 00002: val_loss improved from 1.11266 to 0.91358, saving model to lstm.hdf5\n",
      "12682/12682 [==============================] - 155s 12ms/sample - loss: 1.0900 - acc: 0.5895 - val_loss: 0.9136 - val_acc: 0.6809\n",
      "Epoch 3/20\n",
      "12672/12682 [============================>.] - ETA: 0s - loss: 0.9173 - acc: 0.6735\n",
      "Epoch 00003: val_loss improved from 0.91358 to 0.79916, saving model to lstm.hdf5\n",
      "12682/12682 [==============================] - 151s 12ms/sample - loss: 0.9175 - acc: 0.6733 - val_loss: 0.7992 - val_acc: 0.7304\n",
      "Epoch 4/20\n",
      "12672/12682 [============================>.] - ETA: 0s - loss: 0.8081 - acc: 0.7223\n",
      "Epoch 00004: val_loss improved from 0.79916 to 0.68826, saving model to lstm.hdf5\n",
      "12682/12682 [==============================] - 150s 12ms/sample - loss: 0.8083 - acc: 0.7222 - val_loss: 0.6883 - val_acc: 0.7676\n",
      "Epoch 5/20\n",
      "12672/12682 [============================>.] - ETA: 0s - loss: 0.7241 - acc: 0.7547\n",
      "Epoch 00005: val_loss improved from 0.68826 to 0.63080, saving model to lstm.hdf5\n",
      "12682/12682 [==============================] - 151s 12ms/sample - loss: 0.7242 - acc: 0.7547 - val_loss: 0.6308 - val_acc: 0.7871\n",
      "Epoch 6/20\n",
      "12672/12682 [============================>.] - ETA: 0s - loss: 0.6746 - acc: 0.7755\n",
      "Epoch 00006: val_loss improved from 0.63080 to 0.58052, saving model to lstm.hdf5\n",
      "12682/12682 [==============================] - 153s 12ms/sample - loss: 0.6747 - acc: 0.7754 - val_loss: 0.5805 - val_acc: 0.8083\n",
      "Epoch 7/20\n",
      "12672/12682 [============================>.] - ETA: 0s - loss: 0.5852 - acc: 0.8096\n",
      "Epoch 00007: val_loss improved from 0.58052 to 0.51921, saving model to lstm.hdf5\n",
      "12682/12682 [==============================] - 153s 12ms/sample - loss: 0.5852 - acc: 0.8097 - val_loss: 0.5192 - val_acc: 0.8392\n",
      "Epoch 8/20\n",
      "12672/12682 [============================>.] - ETA: 0s - loss: 0.5252 - acc: 0.8335\n",
      "Epoch 00008: val_loss improved from 0.51921 to 0.46225, saving model to lstm.hdf5\n",
      "12682/12682 [==============================] - 150s 12ms/sample - loss: 0.5252 - acc: 0.8335 - val_loss: 0.4622 - val_acc: 0.8534\n",
      "Epoch 9/20\n",
      "12672/12682 [============================>.] - ETA: 0s - loss: 0.4848 - acc: 0.8498\n",
      "Epoch 00009: val_loss improved from 0.46225 to 0.41654, saving model to lstm.hdf5\n",
      "12682/12682 [==============================] - 151s 12ms/sample - loss: 0.4846 - acc: 0.8499 - val_loss: 0.4165 - val_acc: 0.8786\n",
      "Epoch 10/20\n",
      "12672/12682 [============================>.] - ETA: 0s - loss: 0.4330 - acc: 0.8652\n",
      "Epoch 00010: val_loss improved from 0.41654 to 0.38980, saving model to lstm.hdf5\n",
      "12682/12682 [==============================] - 152s 12ms/sample - loss: 0.4331 - acc: 0.8652 - val_loss: 0.3898 - val_acc: 0.8814\n",
      "Epoch 11/20\n",
      "12672/12682 [============================>.] - ETA: 0s - loss: 0.4003 - acc: 0.8778\n",
      "Epoch 00011: val_loss improved from 0.38980 to 0.37595, saving model to lstm.hdf5\n",
      "12682/12682 [==============================] - 153s 12ms/sample - loss: 0.4001 - acc: 0.8779 - val_loss: 0.3760 - val_acc: 0.8865\n",
      "Epoch 12/20\n",
      "12672/12682 [============================>.] - ETA: 0s - loss: 0.3758 - acc: 0.8815\n",
      "Epoch 00012: val_loss improved from 0.37595 to 0.35325, saving model to lstm.hdf5\n",
      "12682/12682 [==============================] - 154s 12ms/sample - loss: 0.3759 - acc: 0.8815 - val_loss: 0.3532 - val_acc: 0.8947\n",
      "Epoch 13/20\n",
      "12672/12682 [============================>.] - ETA: 0s - loss: 0.3483 - acc: 0.8920\n",
      "Epoch 00013: val_loss improved from 0.35325 to 0.32322, saving model to lstm.hdf5\n",
      "12682/12682 [==============================] - 149s 12ms/sample - loss: 0.3483 - acc: 0.8920 - val_loss: 0.3232 - val_acc: 0.8985\n",
      "Epoch 14/20\n",
      "12672/12682 [============================>.] - ETA: 0s - loss: 0.3317 - acc: 0.8953\n",
      "Epoch 00014: val_loss improved from 0.32322 to 0.31068, saving model to lstm.hdf5\n",
      "12682/12682 [==============================] - 152s 12ms/sample - loss: 0.3315 - acc: 0.8954 - val_loss: 0.3107 - val_acc: 0.9048\n",
      "Epoch 15/20\n",
      "12672/12682 [============================>.] - ETA: 0s - loss: 0.3164 - acc: 0.8985\n",
      "Epoch 00015: val_loss improved from 0.31068 to 0.29820, saving model to lstm.hdf5\n",
      "12682/12682 [==============================] - 151s 12ms/sample - loss: 0.3169 - acc: 0.8984 - val_loss: 0.2982 - val_acc: 0.9079\n",
      "Epoch 16/20\n",
      "12672/12682 [============================>.] - ETA: 0s - loss: 0.2992 - acc: 0.9037\n",
      "Epoch 00016: val_loss did not improve from 0.29820\n",
      "12682/12682 [==============================] - 149s 12ms/sample - loss: 0.2995 - acc: 0.9036 - val_loss: 0.2986 - val_acc: 0.9054\n",
      "Epoch 17/20\n",
      "12672/12682 [============================>.] - ETA: 0s - loss: 0.2865 - acc: 0.9111\n",
      "Epoch 00017: val_loss improved from 0.29820 to 0.29387, saving model to lstm.hdf5\n",
      "12682/12682 [==============================] - 158s 12ms/sample - loss: 0.2864 - acc: 0.9111 - val_loss: 0.2939 - val_acc: 0.9098\n",
      "Epoch 18/20\n",
      "12672/12682 [============================>.] - ETA: 0s - loss: 0.2620 - acc: 0.9161\n",
      "Epoch 00018: val_loss improved from 0.29387 to 0.28392, saving model to lstm.hdf5\n",
      "12682/12682 [==============================] - 133s 10ms/sample - loss: 0.2620 - acc: 0.9162 - val_loss: 0.2839 - val_acc: 0.9079\n",
      "Epoch 19/20\n",
      "12672/12682 [============================>.] - ETA: 0s - loss: 0.2535 - acc: 0.9163\n",
      "Epoch 00019: val_loss improved from 0.28392 to 0.27689, saving model to lstm.hdf5\n",
      "12682/12682 [==============================] - 132s 10ms/sample - loss: 0.2535 - acc: 0.9163 - val_loss: 0.2769 - val_acc: 0.9101\n",
      "Epoch 20/20\n",
      "12672/12682 [============================>.] - ETA: 0s - loss: 0.2440 - acc: 0.9223\n",
      "Epoch 00020: val_loss improved from 0.27689 to 0.27284, saving model to lstm.hdf5\n",
      "12682/12682 [==============================] - 131s 10ms/sample - loss: 0.2439 - acc: 0.9223 - val_loss: 0.2728 - val_acc: 0.9133\n"
     ]
    }
   ],
   "source": [
    "filepath=\"lstm.hdf5\"\n",
    "checkpoint = ModelCheckpoint(filepath, monitor='val_loss', verbose=1, save_best_only=True, mode='min')\n",
    "callbacks_list = [checkpoint]\n",
    "history_LSTM = model_LSTM.fit(pad_sequence_train, df['class_encoded'], epochs=20,   validation_split= 0.2, batch_size=64,callbacks=callbacks_list)\n",
    "model_LSTM.load_weights(\"lstm.hdf5\")"
   ]
  },
  {
   "cell_type": "markdown",
   "metadata": {},
   "source": [
    "### GRU Model"
   ]
  },
  {
   "cell_type": "code",
   "execution_count": 16,
   "metadata": {},
   "outputs": [
    {
     "name": "stdout",
     "output_type": "stream",
     "text": [
      "Model: \"sequential_1\"\n",
      "_________________________________________________________________\n",
      "Layer (type)                 Output Shape              Param #   \n",
      "=================================================================\n",
      "embedding_1 (Embedding)      (None, 100, 300)          12661200  \n",
      "_________________________________________________________________\n",
      "lstm_2 (LSTM)                (None, 100, 100)          160400    \n",
      "_________________________________________________________________\n",
      "dropout_2 (Dropout)          (None, 100, 100)          0         \n",
      "_________________________________________________________________\n",
      "lstm_3 (LSTM)                (None, 100)               80400     \n",
      "_________________________________________________________________\n",
      "dropout_3 (Dropout)          (None, 100)               0         \n",
      "_________________________________________________________________\n",
      "dense_2 (Dense)              (None, 16)                1616      \n",
      "_________________________________________________________________\n",
      "dense_3 (Dense)              (None, 5)                 85        \n",
      "=================================================================\n",
      "Total params: 12,903,701\n",
      "Trainable params: 12,903,701\n",
      "Non-trainable params: 0\n",
      "_________________________________________________________________\n"
     ]
    }
   ],
   "source": [
    "model_GRU = Sequential()\n",
    "model_GRU.add(Embedding(Max_Words, 300, weights=[embedding_matrix], input_length=100, trainable=True, mask_zero= True))\n",
    "model_GRU.add(LSTM(100, return_sequences = True, dropout=0.1, recurrent_dropout=0.1))\n",
    "model_GRU.add(Dropout(0.1))\n",
    "model_GRU.add(LSTM(100, return_sequences = False, dropout=0.1, recurrent_dropout=0.1))\n",
    "model_GRU.add(Dropout(0.1))\n",
    "model_GRU.add(Dense(16, activation='relu'))\n",
    "model_GRU.add(Dense(5, activation='softmax'))\n",
    "model_GRU.compile(loss='sparse_categorical_crossentropy', optimizer= optimizers.Adam(1e-4) , metrics=['accuracy'])\n",
    "model_GRU.summary()"
   ]
  },
  {
   "cell_type": "code",
   "execution_count": 17,
   "metadata": {},
   "outputs": [
    {
     "name": "stdout",
     "output_type": "stream",
     "text": [
      "Train on 12682 samples, validate on 3171 samples\n",
      "Epoch 1/20\n",
      "12672/12682 [============================>.] - ETA: 0s - loss: 1.3966 - acc: 0.4137\n",
      "Epoch 00001: val_loss improved from inf to 1.08627, saving model to gru.hdf5\n",
      "12682/12682 [==============================] - 134s 11ms/sample - loss: 1.3962 - acc: 0.4139 - val_loss: 1.0863 - val_acc: 0.5667\n",
      "Epoch 2/20\n",
      "12672/12682 [============================>.] - ETA: 0s - loss: 1.0218 - acc: 0.6231\n",
      "Epoch 00002: val_loss improved from 1.08627 to 0.83531, saving model to gru.hdf5\n",
      "12682/12682 [==============================] - 130s 10ms/sample - loss: 1.0218 - acc: 0.6232 - val_loss: 0.8353 - val_acc: 0.7209\n",
      "Epoch 3/20\n",
      "12672/12682 [============================>.] - ETA: 0s - loss: 0.8510 - acc: 0.7131\n",
      "Epoch 00003: val_loss improved from 0.83531 to 0.69662, saving model to gru.hdf5\n",
      "12682/12682 [==============================] - 132s 10ms/sample - loss: 0.8512 - acc: 0.7128 - val_loss: 0.6966 - val_acc: 0.7663\n",
      "Epoch 4/20\n",
      "12672/12682 [============================>.] - ETA: 0s - loss: 0.7417 - acc: 0.7471\n",
      "Epoch 00004: val_loss improved from 0.69662 to 0.60505, saving model to gru.hdf5\n",
      "12682/12682 [==============================] - 131s 10ms/sample - loss: 0.7416 - acc: 0.7470 - val_loss: 0.6050 - val_acc: 0.8092\n",
      "Epoch 5/20\n",
      "12672/12682 [============================>.] - ETA: 0s - loss: 0.6609 - acc: 0.7805\n",
      "Epoch 00005: val_loss improved from 0.60505 to 0.54784, saving model to gru.hdf5\n",
      "12682/12682 [==============================] - 131s 10ms/sample - loss: 0.6609 - acc: 0.7806 - val_loss: 0.5478 - val_acc: 0.8348\n",
      "Epoch 6/20\n",
      "12672/12682 [============================>.] - ETA: 0s - loss: 0.5745 - acc: 0.8154\n",
      "Epoch 00006: val_loss improved from 0.54784 to 0.49977, saving model to gru.hdf5\n",
      "12682/12682 [==============================] - 131s 10ms/sample - loss: 0.5744 - acc: 0.8155 - val_loss: 0.4998 - val_acc: 0.8483\n",
      "Epoch 7/20\n",
      "12672/12682 [============================>.] - ETA: 0s - loss: 0.5292 - acc: 0.8309\n",
      "Epoch 00007: val_loss improved from 0.49977 to 0.44245, saving model to gru.hdf5\n",
      "12682/12682 [==============================] - 131s 10ms/sample - loss: 0.5291 - acc: 0.8309 - val_loss: 0.4424 - val_acc: 0.8653\n",
      "Epoch 8/20\n",
      "12672/12682 [============================>.] - ETA: 0s - loss: 0.4677 - acc: 0.8504\n",
      "Epoch 00008: val_loss improved from 0.44245 to 0.43007, saving model to gru.hdf5\n",
      "12682/12682 [==============================] - 131s 10ms/sample - loss: 0.4677 - acc: 0.8504 - val_loss: 0.4301 - val_acc: 0.8707\n",
      "Epoch 9/20\n",
      "12672/12682 [============================>.] - ETA: 0s - loss: 0.4330 - acc: 0.8631\n",
      "Epoch 00009: val_loss improved from 0.43007 to 0.38855, saving model to gru.hdf5\n",
      "12682/12682 [==============================] - 76s 6ms/sample - loss: 0.4329 - acc: 0.8631 - val_loss: 0.3885 - val_acc: 0.8833\n",
      "Epoch 10/20\n",
      "12672/12682 [============================>.] - ETA: 0s - loss: 0.3998 - acc: 0.8716\n",
      "Epoch 00010: val_loss improved from 0.38855 to 0.36515, saving model to gru.hdf5\n",
      "12682/12682 [==============================] - 72s 6ms/sample - loss: 0.3997 - acc: 0.8716 - val_loss: 0.3652 - val_acc: 0.8849\n",
      "Epoch 11/20\n",
      "12672/12682 [============================>.] - ETA: 0s - loss: 0.3622 - acc: 0.8848\n",
      "Epoch 00011: val_loss improved from 0.36515 to 0.35222, saving model to gru.hdf5\n",
      "12682/12682 [==============================] - 74s 6ms/sample - loss: 0.3623 - acc: 0.8848 - val_loss: 0.3522 - val_acc: 0.8865\n",
      "Epoch 12/20\n",
      "12672/12682 [============================>.] - ETA: 0s - loss: 0.3375 - acc: 0.8931\n",
      "Epoch 00012: val_loss improved from 0.35222 to 0.33024, saving model to gru.hdf5\n",
      "12682/12682 [==============================] - 73s 6ms/sample - loss: 0.3375 - acc: 0.8931 - val_loss: 0.3302 - val_acc: 0.8975\n",
      "Epoch 13/20\n",
      "12672/12682 [============================>.] - ETA: 0s - loss: 0.3227 - acc: 0.8978\n",
      "Epoch 00013: val_loss improved from 0.33024 to 0.32022, saving model to gru.hdf5\n",
      "12682/12682 [==============================] - 74s 6ms/sample - loss: 0.3224 - acc: 0.8979 - val_loss: 0.3202 - val_acc: 0.8978\n",
      "Epoch 14/20\n",
      "12672/12682 [============================>.] - ETA: 0s - loss: 0.2986 - acc: 0.9034\n",
      "Epoch 00014: val_loss improved from 0.32022 to 0.30415, saving model to gru.hdf5\n",
      "12682/12682 [==============================] - 73s 6ms/sample - loss: 0.2984 - acc: 0.9035 - val_loss: 0.3042 - val_acc: 0.9038\n",
      "Epoch 15/20\n",
      "12672/12682 [============================>.] - ETA: 0s - loss: 0.2902 - acc: 0.9069\n",
      "Epoch 00015: val_loss did not improve from 0.30415\n",
      "12682/12682 [==============================] - 73s 6ms/sample - loss: 0.2902 - acc: 0.9069 - val_loss: 0.3202 - val_acc: 0.8934\n",
      "Epoch 16/20\n",
      "12672/12682 [============================>.] - ETA: 0s - loss: 0.2769 - acc: 0.9115\n",
      "Epoch 00016: val_loss did not improve from 0.30415\n",
      "12682/12682 [==============================] - 73s 6ms/sample - loss: 0.2769 - acc: 0.9115 - val_loss: 0.3136 - val_acc: 0.9003\n",
      "Epoch 17/20\n",
      "12672/12682 [============================>.] - ETA: 0s - loss: 0.2558 - acc: 0.9190\n",
      "Epoch 00017: val_loss improved from 0.30415 to 0.29400, saving model to gru.hdf5\n",
      "12682/12682 [==============================] - 74s 6ms/sample - loss: 0.2558 - acc: 0.9189 - val_loss: 0.2940 - val_acc: 0.9051\n",
      "Epoch 18/20\n",
      "12672/12682 [============================>.] - ETA: 0s - loss: 0.2496 - acc: 0.9207\n",
      "Epoch 00018: val_loss improved from 0.29400 to 0.28279, saving model to gru.hdf5\n",
      "12682/12682 [==============================] - 74s 6ms/sample - loss: 0.2496 - acc: 0.9207 - val_loss: 0.2828 - val_acc: 0.9089\n",
      "Epoch 19/20\n",
      "12672/12682 [============================>.] - ETA: 0s - loss: 0.2352 - acc: 0.9234\n",
      "Epoch 00019: val_loss improved from 0.28279 to 0.28166, saving model to gru.hdf5\n",
      "12682/12682 [==============================] - 73s 6ms/sample - loss: 0.2350 - acc: 0.9234 - val_loss: 0.2817 - val_acc: 0.9067\n",
      "Epoch 20/20\n",
      "12672/12682 [============================>.] - ETA: 0s - loss: 0.2275 - acc: 0.9258\n",
      "Epoch 00020: val_loss did not improve from 0.28166\n",
      "12682/12682 [==============================] - 74s 6ms/sample - loss: 0.2274 - acc: 0.9259 - val_loss: 0.3071 - val_acc: 0.9035\n"
     ]
    }
   ],
   "source": [
    "filepath=\"gru.hdf5\"\n",
    "checkpoint = ModelCheckpoint(filepath, monitor='val_loss', verbose=1, save_best_only=True, mode='min')\n",
    "callbacks_list = [checkpoint]\n",
    "history_GRU = model_GRU.fit(pad_sequence_train, df['class_encoded'], epochs=20, validation_split= 0.2, batch_size=64,callbacks=callbacks_list)\n",
    "model_GRU.load_weights(\"gru.hdf5\")"
   ]
  },
  {
   "cell_type": "markdown",
   "metadata": {},
   "source": [
    "# Model evaluation"
   ]
  },
  {
   "cell_type": "code",
   "execution_count": 18,
   "metadata": {},
   "outputs": [],
   "source": [
    "#################################################\n",
    "\n",
    "LSTM_Predicted_Y = model_LSTM.predict_classes(pad_sequence_test)\n",
    "LSTM_Y_withlabels = label_encoder.inverse_transform(LSTM_Predicted_Y)\n",
    "\n",
    "GRU_Predicted_Y = model_GRU.predict_classes(pad_sequence_test)\n",
    "GRU_Y_withlabels = label_encoder.inverse_transform(GRU_Predicted_Y)\n",
    "\n",
    "# cnf_matrix = confusion_matrix(df_Test['Class'], Y_withlabels)"
   ]
  },
  {
   "cell_type": "code",
   "execution_count": null,
   "metadata": {},
   "outputs": [],
   "source": [
    "def plot_confusion_matrix(cm, classes,\n",
    "                          title='Confusion matrix',\n",
    "                          cmap=plt.cm.Blues):\n",
    "    \"\"\"\n",
    "    This function prints and plots the confusion matrix.\n",
    "    Normalization can be applied by setting `normalize=True`.\n",
    "    \"\"\"\n",
    "    import itertools\n",
    "    print('Confusion matrix, without normalization')\n",
    "    print(cm)\n",
    "\n",
    "#     plt.figure(figsize=(6,6))\n",
    "    plt.imshow(cm, interpolation='nearest', cmap=cmap)\n",
    "    plt.title(title)\n",
    "    plt.colorbar()\n",
    "    tick_marks = np.arange(len(classes))\n",
    "    plt.xticks(tick_marks, classes, rotation=45)\n",
    "    plt.yticks(tick_marks, classes)\n",
    "\n",
    "    fmt = 'd'\n",
    "    thresh = cm.max() / 2.\n",
    "    for i, j in itertools.product(range(cm.shape[0]), range(cm.shape[1])):\n",
    "        plt.text(j, i, format(cm[i, j], fmt),\n",
    "                 horizontalalignment=\"center\", verticalalignment='top',\n",
    "                 color=\"white\" if cm[i, j] > thresh else \"black\")\n",
    "\n",
    "    plt.ylabel('True label')\n",
    "    plt.xlabel('Predicted label')\n",
    "\n",
    "##################\n",
    "\n",
    "# plt.figure()\n",
    "# plot_confusion_matrix(cnf_matrix, classes=['Logistics', 'Operations', 'Others', 'Quality', 'Specifications'],\n",
    "#                       title='Confusion matrix, without normalization')"
   ]
  },
  {
   "cell_type": "code",
   "execution_count": 20,
   "metadata": {},
   "outputs": [
    {
     "name": "stdout",
     "output_type": "stream",
     "text": [
      "0.7972551466001248\n",
      "0.8053649407361197\n"
     ]
    }
   ],
   "source": [
    "print(accuracy_score(df_Test['class_encoded'],GRU_Predicted_Y))\n",
    "print(accuracy_score(df_Test['class_encoded'],LSTM_Predicted_Y))"
   ]
  },
  {
   "cell_type": "markdown",
   "metadata": {},
   "source": [
    "### Plots and Graphs"
   ]
  },
  {
   "cell_type": "code",
   "execution_count": 21,
   "metadata": {},
   "outputs": [
    {
     "data": {
      "text/plain": [
       "array([<matplotlib.axes._subplots.AxesSubplot object at 0x000001EAABAEAEC8>],\n",
       "      dtype=object)"
      ]
     },
     "execution_count": 21,
     "metadata": {},
     "output_type": "execute_result"
    },
    {
     "data": {
      "image/png": "[encoded data removed]",
      "text/plain": [
       "<Figure size 432x432 with 1 Axes>"
      ]
     },
     "metadata": {},
     "output_type": "display_data"
    }
   ],
   "source": [
    "data_count = df['Class'].value_counts()\n",
    "data_count.plot.pie(subplots=True, explode=[0.01,0.01,0.01,0.01,0.01],autopct='%1.1f%%',  figsize=(6, 6))"
   ]
  },
  {
   "cell_type": "code",
   "execution_count": 22,
   "metadata": {},
   "outputs": [
    {
     "data": {
      "image/png": "[encoded data removed]",
      "text/plain": [
       "<Figure size 432x288 with 1 Axes>"
      ]
     },
     "metadata": {
      "needs_background": "light"
     },
     "output_type": "display_data"
    },
    {
     "data": {
      "image/png": "[encoded data removed]",
      "text/plain": [
       "<Figure size 432x288 with 1 Axes>"
      ]
     },
     "metadata": {
      "needs_background": "light"
     },
     "output_type": "display_data"
    },
    {
     "data": {
      "image/png": "[encoded data removed]",
      "text/plain": [
       "<Figure size 432x288 with 1 Axes>"
      ]
     },
     "metadata": {
      "needs_background": "light"
     },
     "output_type": "display_data"
    },
    {
     "data": {
      "image/png": "[encoded data removed]",
      "text/plain": [
       "<Figure size 432x288 with 1 Axes>"
      ]
     },
     "metadata": {
      "needs_background": "light"
     },
     "output_type": "display_data"
    }
   ],
   "source": [
    "def drawPlot(title, history):\n",
    "    iteration = 20\n",
    "    plt.figure()\n",
    "    plt.title(title)\n",
    "    plt.xlabel('Epoch')\n",
    "    plt.ylabel('loss value')\n",
    "    plt.plot(range(1, iteration + 1),history['loss'],label='Train Error')\n",
    "    plt.plot(range(1, iteration + 1),history['val_loss'],label='Val Error')\n",
    "    plt.legend()\n",
    "    plt.show()\n",
    "\n",
    "    plt.figure()\n",
    "    plt.title(title)\n",
    "    plt.xlabel('Epoch')\n",
    "    plt.ylabel('Accuracy')\n",
    "    plt.plot(range(0,iteration),history['acc'],label='Train Acc')\n",
    "    plt.plot(range(0,iteration),history['val_acc'],label='Val Acc')\n",
    "    plt.legend()\n",
    "    plt.show()\n",
    "    \n",
    "    \n",
    "drawPlot(\"Model:LSTM \", history_LSTM.history)\n",
    "drawPlot(\"Model:GRU \", history_GRU.history)\n"
   ]
  },
  {
   "cell_type": "markdown",
   "metadata": {},
   "source": [
    "### RNN Model"
   ]
  },
  {
   "cell_type": "code",
   "execution_count": 23,
   "metadata": {},
   "outputs": [
    {
     "name": "stdout",
     "output_type": "stream",
     "text": [
      "Model: \"sequential_2\"\n",
      "_________________________________________________________________\n",
      "Layer (type)                 Output Shape              Param #   \n",
      "=================================================================\n",
      "embedding_2 (Embedding)      (None, 100, 300)          12661200  \n",
      "_________________________________________________________________\n",
      "simple_rnn (SimpleRNN)       (None, 100)               40100     \n",
      "_________________________________________________________________\n",
      "dense_4 (Dense)              (None, 16)                1616      \n",
      "_________________________________________________________________\n",
      "dense_5 (Dense)              (None, 5)                 85        \n",
      "=================================================================\n",
      "Total params: 12,703,001\n",
      "Trainable params: 12,703,001\n",
      "Non-trainable params: 0\n",
      "_________________________________________________________________\n"
     ]
    }
   ],
   "source": [
    "model_RNN = Sequential()\n",
    "model_RNN.add(Embedding(Max_Words, 300, weights=[embedding_matrix], input_length=100, trainable=True, mask_zero= True))\n",
    "model_RNN.add(SimpleRNN(100, dropout=0.1, recurrent_dropout=0.1))\n",
    "model_RNN.add(Dense(16, activation='relu'))\n",
    "model_RNN.add(Dense(5, activation='softmax'))\n",
    "model_RNN.compile(loss='sparse_categorical_crossentropy', optimizer= optimizers.Adam(1e-4), metrics=['accuracy'])\n",
    "model_RNN.summary()"
   ]
  },
  {
   "cell_type": "code",
   "execution_count": 24,
   "metadata": {},
   "outputs": [
    {
     "name": "stdout",
     "output_type": "stream",
     "text": [
      "Train on 12682 samples, validate on 3171 samples\n",
      "Epoch 1/20\n",
      "12672/12682 [============================>.] - ETA: 0s - loss: 1.5743 - acc: 0.2972- ETA: 9s - loss: 1.6295 - - ETA: 8s - loss: 1.6221 - acc: 0.261 - ETA: 8s - los - ETA: 6s - \n",
      "Epoch 00001: val_loss improved from inf to 1.45423, saving model to RNN.hdf5\n",
      "12682/12682 [==============================] - 21s 2ms/sample - loss: 1.5741 - acc: 0.2974 - val_loss: 1.4542 - val_acc: 0.3759\n",
      "Epoch 2/20\n",
      "12672/12682 [============================>.] - ETA: 0s - loss: 1.4381 - acc: 0.3949  ETA: 14s - loss - ETA: 11s - loss: 1.4632 -  - ETA: 9s - loss: 1.4611 - acc:  - ETA: 8s - loss: 1 - ETA: 6s - loss: 1.456 - ETA: 5s - los\n",
      "Epoch 00002: val_loss improved from 1.45423 to 1.33898, saving model to RNN.hdf5\n",
      "12682/12682 [==============================] - 20s 2ms/sample - loss: 1.4380 - acc: 0.3950 - val_loss: 1.3390 - val_acc: 0.4623\n",
      "Epoch 3/20\n",
      "12672/12682 [============================>.] - ETA: 0s - loss: 1.3278 - acc: 0.4758- ETA: 4s - los - ETA: 1s - loss\n",
      "Epoch 00003: val_loss improved from 1.33898 to 1.17904, saving model to RNN.hdf5\n",
      "12682/12682 [==============================] - 20s 2ms/sample - loss: 1.3278 - acc: 0.4757 - val_loss: 1.1790 - val_acc: 0.5462\n",
      "Epoch 4/20\n",
      "12672/12682 [============================>.] - ETA: 0s - loss: 1.2654 - acc: 0.5078\n",
      "Epoch 00004: val_loss improved from 1.17904 to 1.14566, saving model to RNN.hdf5\n",
      "12682/12682 [==============================] - 20s 2ms/sample - loss: 1.2657 - acc: 0.5077 - val_loss: 1.1457 - val_acc: 0.5613\n",
      "Epoch 5/20\n",
      "12672/12682 [============================>.] - ETA: 0s - loss: 1.2016 - acc: 0.5393- ETA: 4s - loss: 1.2086 - -\n",
      "Epoch 00005: val_loss improved from 1.14566 to 1.11552, saving model to RNN.hdf5\n",
      "12682/12682 [==============================] - 20s 2ms/sample - loss: 1.2018 - acc: 0.5392 - val_loss: 1.1155 - val_acc: 0.5724\n",
      "Epoch 6/20\n",
      "12672/12682 [============================>.] - ETA: 0s - loss: 1.1678 - acc: 0.5503  ETA: 10s - loss: 1.1734 - acc: - ETA: 9s - loss - ETA: 7s - loss: 1 - ETA: 2\n",
      "Epoch 00006: val_loss improved from 1.11552 to 1.10322, saving model to RNN.hdf5\n",
      "12682/12682 [==============================] - 20s 2ms/sample - loss: 1.1676 - acc: 0.5503 - val_loss: 1.1032 - val_acc: 0.5784\n",
      "Epoch 7/20\n",
      "12672/12682 [============================>.] - ETA: 0s - loss: 1.1801 - acc: 0.5450  ETA: 11s - loss: 1. - ETA: 1s - loss: 1.1854 - acc: 0.5 - ETA: 1s - loss: 1.1852 - acc: 0.54 - ETA: 1s - loss: 1.1850 - ac - ETA: 0s - loss: 1.1823 - acc: 0.5\n",
      "Epoch 00007: val_loss did not improve from 1.10322\n",
      "12682/12682 [==============================] - 21s 2ms/sample - loss: 1.1799 - acc: 0.5451 - val_loss: 1.1110 - val_acc: 0.5749\n",
      "Epoch 8/20\n",
      "12672/12682 [============================>.] - ETA: 0s - loss: 1.1393 - acc: 0.5668  ETA: 12s - loss: 1.1550 - acc: 0.55 - ETA: 12s - loss - ETA: 11s - loss: 1.1496 - acc:  - ETA: 8s - loss: 1\n",
      "Epoch 00008: val_loss did not improve from 1.10322\n",
      "12682/12682 [==============================] - 21s 2ms/sample - loss: 1.1392 - acc: 0.5667 - val_loss: 1.1871 - val_acc: 0.5673\n",
      "Epoch 9/20\n",
      "12672/12682 [============================>.] - ETA: 0s - loss: 1.1316 - acc: 0.5750  E - ETA: 12s - loss: 1. - ETA: 1 - ETA: 9s - - ETA: 6s - loss:  - ETA: 4s - loss - ETA: 2s - loss:\n",
      "Epoch 00009: val_loss improved from 1.10322 to 1.07918, saving model to RNN.hdf5\n",
      "12682/12682 [==============================] - 22s 2ms/sample - loss: 1.1321 - acc: 0.5748 - val_loss: 1.0792 - val_acc: 0.5907\n",
      "Epoch 10/20\n",
      "12672/12682 [============================>.] - ETA: 0s - loss: 1.0959 - acc: 0.5825  ETA: 11s - loss: 1.1102 - - ET - ETA: 5s - l - ETA: 3s - loss: 1.0961 - a - ETA: 2s - loss: 1.0969 -  - ETA: 1s - loss: 1\n",
      "Epoch 00010: val_loss improved from 1.07918 to 1.06027, saving model to RNN.hdf5\n",
      "12682/12682 [==============================] - 20s 2ms/sample - loss: 1.0957 - acc: 0.5826 - val_loss: 1.0603 - val_acc: 0.6001\n",
      "Epoch 11/20\n",
      "12672/12682 [============================>.] - ETA: 0s - loss: 1.0773 - acc: 0.5973  ETA: 17s -  - ETA: 10s - loss: 1.0723 - acc: 0. - ETA: 10s - loss: 1.0726 -  - ETA: 9s - loss: 1.0765 - ac - ET - ETA: 5s - loss: 1.0765 - acc - ETA: 5s - loss: 1.0770 - acc - ETA: 4s - loss: 1.0808 - acc:  - ETA: 3s - loss: 1.079 - ETA: 2s \n",
      "Epoch 00011: val_loss did not improve from 1.06027\n",
      "12682/12682 [==============================] - 20s 2ms/sample - loss: 1.0773 - acc: 0.5973 - val_loss: 1.0652 - val_acc: 0.5944\n",
      "Epoch 12/20\n",
      "12672/12682 [============================>.] - ETA: 0s - loss: 1.0771 - acc: 0.5907  ETA: 14s - loss: 1. - ETA: 14s - loss: 1 - ETA: 5s - loss: 1.0817 - acc: 0.585 - ETA: 5s - los - ETA: 0s - loss: 1.0765 - acc: 0.5911\n",
      "Epoch 00012: val_loss did not improve from 1.06027\n",
      "12682/12682 [==============================] - 20s 2ms/sample - loss: 1.0765 - acc: 0.5911 - val_loss: 1.0865 - val_acc: 0.5746\n",
      "Epoch 13/20\n",
      "12672/12682 [============================>.] - ETA: 0s - loss: 1.0543 - acc: 0.6039  ETA: 13s -  - - ETA: 10s - loss: 1.0762 - acc: 0.59 - ETA: 1 - ETA: 4s - loss: 1.0 - ETA: 3s - loss: 1.05 - ETA: 1s - loss: \n",
      "Epoch 00013: val_loss improved from 1.06027 to 1.02788, saving model to RNN.hdf5\n",
      "12682/12682 [==============================] - 20s 2ms/sample - loss: 1.0545 - acc: 0.6038 - val_loss: 1.0279 - val_acc: 0.6112\n",
      "Epoch 14/20\n",
      "12672/12682 [============================>.] - ETA: 0s - loss: 1.0242 - acc: 0.6177  ETA: 10s - loss: 1.0188 - acc: 0. - ETA: 10s - lo - ETA: 4s -  - ETA: 2s - loss: 1.0233 - acc: 0 - ETA: 2s - lo\n",
      "Epoch 00014: val_loss improved from 1.02788 to 1.00923, saving model to RNN.hdf5\n",
      "12682/12682 [==============================] - 20s 2ms/sample - loss: 1.0242 - acc: 0.6175 - val_loss: 1.0092 - val_acc: 0.6200\n",
      "Epoch 15/20\n",
      "12672/12682 [============================>.] - ETA: 0s - loss: 1.0423 - acc: 0.6093- ETA: 5s  - ETA: 3s - los - ETA: 1s - loss: 1.0448 \n",
      "Epoch 00015: val_loss improved from 1.00923 to 0.99619, saving model to RNN.hdf5\n",
      "12682/12682 [==============================] - 20s 2ms/sample - loss: 1.0425 - acc: 0.6094 - val_loss: 0.9962 - val_acc: 0.6228\n",
      "Epoch 16/20\n",
      "12672/12682 [============================>.] - ETA: 0s - loss: 0.9908 - acc: 0.63287 ETA: 16s - loss: 1. - ETA: 15s - loss: 0.9893 - a - E - - ETA: 11s - loss: 1. - ETA: 10s - loss - ETA: 9s - los - ETA: 7s - loss: 1. - ETA: 6s - loss: 0.9982 - a - ETA: 1s - loss: 0\n",
      "Epoch 00016: val_loss did not improve from 0.99619\n",
      "12682/12682 [==============================] - 20s 2ms/sample - loss: 0.9907 - acc: 0.6329 - val_loss: 1.0011 - val_acc: 0.6295\n",
      "Epoch 17/20\n",
      "12672/12682 [============================>.] - ETA: 0s - loss: 0.9704 - acc: 0.6377  ETA: 14s - loss: 0 - ETA: 9s - loss: 0.9855 - - ETA: 8s - loss: 0.9766 - acc: 0.63 - ETA: 8s - loss: 0.9792 - acc:  - ETA: 8s - loss: 0.9796 - acc: 0.6 - ETA: 7s - loss: 0.9779 - ETA: 6s - loss: 0.975 - ETA: 1s - loss: 0.9716 - ETA: 0s - loss: 0.9700 - acc: 0.\n",
      "Epoch 00017: val_loss improved from 0.99619 to 0.95102, saving model to RNN.hdf5\n",
      "12682/12682 [==============================] - 20s 2ms/sample - loss: 0.9701 - acc: 0.6378 - val_loss: 0.9510 - val_acc: 0.6477\n",
      "Epoch 18/20\n",
      "12672/12682 [============================>.] - ETA: 0s - loss: 0.9550 - acc: 0.6472  ETA - ETA: 12s - loss:  - ETA: 11s - loss: 0.9598 - ETA: 10s - loss: 0.9550 - acc: 0. - ETA: 10s - loss: 0.9523 - acc: 0. - ETA: 10s - l - ETA: 8s - loss: 0.9632 - ac - ETA: 7s - loss: 0.9625 - acc: 0 - ETA: 7s - loss: 0.9609 - - ETA: 6s - loss: 0.9589 - acc - ETA: 5s - loss: 0.9577 - - ETA: 4s - loss: 0.9567 - ETA: 3s - loss: 0.9579 - acc: 0.645 - ETA: 3s - loss: 0.957 - ETA: 1s - loss: 0.9572 - acc: 0.644 - ETA: 1s - loss: 0.9569 - acc: 0 - ETA: 1s - loss: 0.9575 - acc: 0.645 - ETA: 1s - loss: 0.9572 - acc: 0.6 - ETA: 0s - loss: 0.9548 - acc\n",
      "Epoch 00018: val_loss improved from 0.95102 to 0.93622, saving model to RNN.hdf5\n",
      "12682/12682 [==============================] - 20s 2ms/sample - loss: 0.9552 - acc: 0.6471 - val_loss: 0.9362 - val_acc: 0.6550\n",
      "Epoch 19/20\n"
     ]
    },
    {
     "name": "stdout",
     "output_type": "stream",
     "text": [
      "12672/12682 [============================>.] - ETA: 0s - loss: 0.9278 - acc: 0.6577  ETA: 19s - loss: 0.9424 - a - E - ETA: 15s - loss: 0.9333 - acc:  - ETA: 15s - lo - - ETA: 12s - loss: 0.9312 - a - ETA: 10s - loss: 0.935 - ETA: 9s - loss: 0.9349 - acc: - ETA: 9s - loss: 0.9346 - - ETA: 4s - loss: 0.9340 - acc: 0.6 - ETA: 3s - loss: 0.9347 - acc: 0.652 - ETA: 3s - loss:  - ETA: 2s - loss: 0.9296 - acc: 0.65 - ETA: 1s - loss: \n",
      "Epoch 00019: val_loss improved from 0.93622 to 0.89964, saving model to RNN.hdf5\n",
      "12682/12682 [==============================] - 20s 2ms/sample - loss: 0.9280 - acc: 0.6575 - val_loss: 0.8996 - val_acc: 0.6720\n",
      "Epoch 20/20\n",
      "12672/12682 [============================>.] - ETA: 0s - loss: 0.9579 - acc: 0.6475- E - ETA: 5s - ETA: 3s - lo - ETA: 1s - loss: 0.9582 \n",
      "Epoch 00020: val_loss did not improve from 0.89964\n",
      "12682/12682 [==============================] - 20s 2ms/sample - loss: 0.9579 - acc: 0.6476 - val_loss: 0.9696 - val_acc: 0.6468\n"
     ]
    }
   ],
   "source": [
    "filepath=\"RNN.hdf5\"\n",
    "checkpoint = ModelCheckpoint(filepath, monitor='val_loss', verbose=1, save_best_only=True, mode='min')\n",
    "callbacks_list = [checkpoint]\n",
    "history_RNN = model_RNN.fit(pad_sequence_train, df['class_encoded'], epochs=20, validation_split= 0.2, batch_size=64,callbacks=callbacks_list)\n",
    "model_RNN.load_weights(\"RNN.hdf5\")"
   ]
  },
  {
   "cell_type": "code",
   "execution_count": 25,
   "metadata": {},
   "outputs": [],
   "source": [
    "RNN_Predicted_Y = model_RNN.predict_classes(pad_sequence_test)\n",
    "RNN_Y_withlabels = label_encoder.inverse_transform(RNN_Predicted_Y)"
   ]
  },
  {
   "cell_type": "code",
   "execution_count": 26,
   "metadata": {},
   "outputs": [
    {
     "name": "stdout",
     "output_type": "stream",
     "text": [
      "0.5995009357454772\n",
      "LSTM \n",
      "['Logistics' 'Operations' 'Others' 'Quality' 'Specifications']\n",
      "[0.84313725 0.71879937 0.83223684 0.8816568  0.88053097]\n",
      "[0.83495146 0.9063745  0.86643836 0.65065502 0.80241935]\n",
      "[0.83902439 0.80176211 0.84899329 0.74874372 0.83966245]\n",
      "Precision: 0.831272\n",
      "recall_score: 0.812168\n",
      "f1_score: 0.815637\n",
      "\n",
      "GRU \n",
      "['Logistics' 'Operations' 'Others' 'Quality' 'Specifications']\n",
      "[0.78571429 0.75767918 0.79127726 0.88957055 0.78294574]\n",
      "[0.85436893 0.88446215 0.86986301 0.63318777 0.81451613]\n",
      "[0.81860465 0.81617647 0.82871126 0.73979592 0.79841897]\n",
      "Precision: 0.801437\n",
      "recall_score: 0.811280\n",
      "f1_score: 0.800341\n",
      "\n",
      "RNN \n",
      "['Logistics' 'Operations' 'Others' 'Quality' 'Specifications']\n",
      "[1.         0.54197531 0.62931034 0.66273585 0.664     ]\n",
      "[0.11650485 0.87450199 0.5        0.61353712 0.33467742]\n",
      "[0.20869565 0.66920732 0.55725191 0.63718821 0.44504021]\n",
      "Precision: 0.699604\n",
      "recall_score: 0.487844\n",
      "f1_score: 0.503477\n"
     ]
    }
   ],
   "source": [
    "from sklearn.metrics import f1_score, precision_score, recall_score, confusion_matrix\n",
    "from statistics import mean \n",
    "print(accuracy_score(df_Test['class_encoded'],RNN_Predicted_Y))\n",
    "# Print f1, precision, and recall scores\n",
    "def getMetrics(y_test, y_pred):\n",
    "    print(label_encoder.inverse_transform([0,1,2,3,4]))\n",
    "    precision_list = precision_score(y_test, y_pred, average=None)\n",
    "    print(precision_list)\n",
    "    recall_list = recall_score(y_test, y_pred, average=None)\n",
    "    print(recall_list)\n",
    "    f1_score_list = f1_score(y_test, y_pred, average=None)\n",
    "    print(f1_score_list)\n",
    "    print(\"Precision: %f\" %mean(precision_list) )\n",
    "    print(\"recall_score: %f\" %mean(recall_list) )\n",
    "    print(\"f1_score: %f\" %mean(f1_score_list) )\n",
    "\n",
    "    \n",
    "# LSTM_Predicted_Y\n",
    "# df.class_encoded.tolist()\n",
    "print(\"LSTM \")\n",
    "getMetrics(df_Test.class_encoded.tolist(), LSTM_Predicted_Y)\n",
    "print(\"\\nGRU \")\n",
    "getMetrics(df_Test.class_encoded.tolist(), GRU_Predicted_Y)\n",
    "print(\"\\nRNN \")\n",
    "getMetrics(df_Test.class_encoded.tolist(), RNN_Predicted_Y)"
   ]
  },
  {
   "cell_type": "code",
   "execution_count": 27,
   "metadata": {},
   "outputs": [
    {
     "data": {
      "image/png": "[encoded data removed]",
      "text/plain": [
       "<Figure size 432x288 with 1 Axes>"
      ]
     },
     "metadata": {
      "needs_background": "light"
     },
     "output_type": "display_data"
    }
   ],
   "source": [
    "plt.figure()\n",
    "plt.title(\"Accuracy of RNN, LSTM and GRU\")\n",
    "plt.xlabel('Epoch')\n",
    "plt.ylabel('Accuracy')\n",
    "plt.plot(range(0,20),history_LSTM.history['val_acc'],label='LSTM Acc')\n",
    "plt.plot(range(0,20),history_RNN.history['val_acc'],label='RNN Acc')\n",
    "plt.plot(range(0,20),history_GRU.history['val_acc'],label='GRU Acc')\n",
    "plt.legend()\n",
    "plt.show()\n",
    "    "
   ]
  }
 ],
 "metadata": {
  "kernelspec": {
   "display_name": "Python 3",
   "language": "python",
   "name": "python3"
  },
  "language_info": {
   "codemirror_mode": {
    "name": "ipython",
    "version": 3
   },
   "file_extension": ".py",
   "mimetype": "text/x-python",
   "name": "python",
   "nbconvert_exporter": "python",
   "pygments_lexer": "ipython3",
   "version": "3.7.4"
  }
 },
 "nbformat": 4,
 "nbformat_minor": 2
}
